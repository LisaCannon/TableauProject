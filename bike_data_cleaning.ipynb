{
 "cells": [
  {
   "cell_type": "code",
   "execution_count": 1,
   "metadata": {},
   "outputs": [],
   "source": [
    "#tableau data cleaning"
   ]
  },
  {
   "cell_type": "code",
   "execution_count": 1,
   "metadata": {},
   "outputs": [],
   "source": [
    "import pandas as pd\n",
    "import os"
   ]
  },
  {
   "cell_type": "code",
   "execution_count": 11,
   "metadata": {},
   "outputs": [],
   "source": [
    "df = pd.read_csv(os.path.join(\"Resources\", \"JC-201710-citibike-tripdata.csv\"))"
   ]
  },
  {
   "cell_type": "code",
   "execution_count": 10,
   "metadata": {},
   "outputs": [],
   "source": [
    "# df2 = pd.read_csv(os.path.join(\"Resources\", \"201810-citibike-tripdata.csv\"))\n",
    "# df2.count()"
   ]
  },
  {
   "cell_type": "code",
   "execution_count": 12,
   "metadata": {},
   "outputs": [
    {
     "data": {
      "text/plain": [
       "tripduration               740460\n",
       "starttime                  740460\n",
       "stoptime                   740460\n",
       "start station id           740460\n",
       "start station name         740460\n",
       "start station latitude     740460\n",
       "start station longitude    740460\n",
       "end station id             740460\n",
       "end station name           740460\n",
       "end station latitude       740460\n",
       "end station longitude      740460\n",
       "bikeid                     740460\n",
       "usertype                   740460\n",
       "birth year                 737005\n",
       "gender                     740460\n",
       "dtype: int64"
      ]
     },
     "execution_count": 12,
     "metadata": {},
     "output_type": "execute_result"
    }
   ],
   "source": [
    "months = [201711, 201712, 201801, 201802,201803,201804,201805,201806,201807,201808,201809,201810,201811, 201812, 201901, 201902,201903,201904,201905,201906,201907,201908,201909]\n",
    "\n",
    "for m in months:\n",
    "    filename = f\"JC-{m}-citibike-tripdata.csv\"\n",
    "    \n",
    "    df_temp = pd.read_csv(os.path.join(\"Resources\", filename))\n",
    "    df = pd.concat([df, df_temp])\n",
    "df.count()\n"
   ]
  },
  {
   "cell_type": "code",
   "execution_count": 13,
   "metadata": {},
   "outputs": [],
   "source": [
    "df.to_csv(\"citibike_concat.csv\", index = False)"
   ]
  },
  {
   "cell_type": "code",
   "execution_count": 2,
   "metadata": {},
   "outputs": [],
   "source": [
    "df_201810 = pd.read_csv(os.path.join(\"Resources\", \"201810-citibike-tripdata.csv\"))\n",
    "df_201811 = pd.read_csv(os.path.join(\"Resources\", \"201811-citibike-tripdata.csv\"))"
   ]
  },
  {
   "cell_type": "code",
   "execution_count": 3,
   "metadata": {},
   "outputs": [],
   "source": [
    "df_201812 = pd.read_csv(os.path.join(\"Resources\", \"201812-citibike-tripdata.csv\"))\n",
    "df_201901 = pd.read_csv(os.path.join(\"Resources\", \"201901-citibike-tripdata.csv\"))"
   ]
  },
  {
   "cell_type": "code",
   "execution_count": 4,
   "metadata": {},
   "outputs": [],
   "source": [
    "df_201902 = pd.read_csv(os.path.join(\"Resources\", \"201902-citibike-tripdata.csv\"))\n",
    "df_201903 = pd.read_csv(os.path.join(\"Resources\", \"201903-citibike-tripdata.csv\"))"
   ]
  },
  {
   "cell_type": "code",
   "execution_count": 5,
   "metadata": {},
   "outputs": [],
   "source": [
    "df_201904 = pd.read_csv(os.path.join(\"Resources\", \"201904-citibike-tripdata.csv\"))\n",
    "df_201905 = pd.read_csv(os.path.join(\"Resources\", \"201905-citibike-tripdata.csv\"))"
   ]
  },
  {
   "cell_type": "code",
   "execution_count": 6,
   "metadata": {},
   "outputs": [],
   "source": [
    "df_201906 = pd.read_csv(os.path.join(\"Resources\", \"201906-citibike-tripdata.csv\"))\n",
    "df_201907 = pd.read_csv(os.path.join(\"Resources\", \"201907-citibike-tripdata.csv\"))"
   ]
  },
  {
   "cell_type": "code",
   "execution_count": 7,
   "metadata": {},
   "outputs": [],
   "source": [
    "df_201908 = pd.read_csv(os.path.join(\"Resources\", \"201908-citibike-tripdata.csv\"))\n",
    "df_201909 = pd.read_csv(os.path.join(\"Resources\", \"201909-citibike-tripdata.csv\"))"
   ]
  },
  {
   "cell_type": "code",
   "execution_count": 8,
   "metadata": {},
   "outputs": [],
   "source": [
    "big_df = pd.concat([df_201810,df_201811,df_201812,df_201901,df_201902,df_201903,df_201904,df_201905,df_201906,df_201907,df_201908,df_201909])"
   ]
  },
  {
   "cell_type": "code",
   "execution_count": 9,
   "metadata": {},
   "outputs": [],
   "source": [
    "big_df.to_csv(\"citibike_big_concat.csv\", index = False)"
   ]
  },
  {
   "cell_type": "code",
   "execution_count": null,
   "metadata": {},
   "outputs": [],
   "source": []
  }
 ],
 "metadata": {
  "kernelspec": {
   "display_name": "Python 3",
   "language": "python",
   "name": "python3"
  },
  "language_info": {
   "codemirror_mode": {
    "name": "ipython",
    "version": 3
   },
   "file_extension": ".py",
   "mimetype": "text/x-python",
   "name": "python",
   "nbconvert_exporter": "python",
   "pygments_lexer": "ipython3",
   "version": "3.7.3"
  }
 },
 "nbformat": 4,
 "nbformat_minor": 2
}
